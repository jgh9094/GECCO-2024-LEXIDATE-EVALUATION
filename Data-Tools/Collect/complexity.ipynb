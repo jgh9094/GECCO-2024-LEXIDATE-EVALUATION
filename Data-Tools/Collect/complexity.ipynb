{
 "cells": [
  {
   "cell_type": "markdown",
   "metadata": {},
   "source": [
    "# Code below will collect complexity scores of final models"
   ]
  },
  {
   "cell_type": "code",
   "execution_count": null,
   "metadata": {},
   "outputs": [],
   "source": [
    "import tpot2\n",
    "import sklearn.metrics\n",
    "import sklearn\n",
    "import sys\n",
    "import pickle as pkl\n",
    "import pandas as pd\n",
    "import os\n",
    "\n",
    "# display stuff\n",
    "pd.set_option('display.max_columns', None)\n",
    "pd.set_option('display.max_rows', None)\n",
    "pd.set_option('display.max_colwidth', None)\n",
    "\n",
    "# variables used throughout\n",
    "task_id_lists = [167104, 167184, 167168, 167161, 167185, 189905, 167152, 167181, 189906, 189862, 167149, 189865, 167190, 189861, 189872, 168794, 189871, 168796, 168797, 75097, 126026, 189909, 126029, 126025, 75105, 168793, 189874, 167201, 189908, 189860, 168792, 167083, 167200, 168798, 189873, 189866, 75127, 75193]\n",
    "data_dir = '../../Results_Prelim/'\n",
    "replicates = 30\n",
    "exp_dirs = ['Base/', '10/Lexicase/','30/Lexicase/','50/Lexicase/']\n",
    "seeds = [0,1200,2400,3200]\n",
    "proportions = [0.0, 0.1, 0.3, 0.5]\n",
    "fitted_pkl = '/fitted_pipeline.pkl'\n"
   ]
  }
 ],
 "metadata": {
  "kernelspec": {
   "display_name": "tpot2-env-3.9",
   "language": "python",
   "name": "python3"
  },
  "language_info": {
   "name": "python",
   "version": "3.9.18"
  }
 },
 "nbformat": 4,
 "nbformat_minor": 2
}
